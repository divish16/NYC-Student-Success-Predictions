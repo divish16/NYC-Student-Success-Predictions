{
 "cells": [
  {
   "cell_type": "code",
   "execution_count": 1,
   "id": "a10194e9",
   "metadata": {
    "scrolled": true
   },
   "outputs": [],
   "source": [
    "# Import dependencies\n",
    "import pandas as pd\n",
    "import numpy as np\n",
    "import os\n",
    "from sqlalchemy import create_engine\n",
    "from config import db_password\n",
    "from sklearn.ensemble import RandomForestRegressor\n",
    "from sklearn.preprocessing import StandardScaler\n",
    "from sklearn.model_selection import train_test_split\n",
    "from sklearn.metrics import confusion_matrix, accuracy_score, classification_report\n"
   ]
  },
  {
   "cell_type": "code",
   "execution_count": 2,
   "id": "0cc88910",
   "metadata": {},
   "outputs": [],
   "source": [
    "# set up the connection to our Postgres db \n",
    "POSTGRES_ADDRESS = 'localhost'\n",
    "POSTGRES_PORT = '5432'\n",
    "POSTGRES_USERNAME = 'postgres' \n",
    "POSTGRES_PASSWORD = db_password\n",
    "POSTGRES_DBNAME = 'db_segment2'"
   ]
  },
  {
   "cell_type": "code",
   "execution_count": 3,
   "id": "fdebd7bc",
   "metadata": {},
   "outputs": [],
   "source": [
    "## CHANGE THIS TO YOUR DATABASE NAME\n",
    "# A long string that contains the necessary Postgres login information\n",
    "postgres_str = ('postgresql://{username}:{password}@{ipaddress}:{port}/{dbname}'\n",
    ".format(username=POSTGRES_USERNAME,\n",
    "password=POSTGRES_PASSWORD,\n",
    "ipaddress=POSTGRES_ADDRESS,\n",
    "port=POSTGRES_PORT,\n",
    "dbname=POSTGRES_DBNAME))"
   ]
  },
  {
   "cell_type": "code",
   "execution_count": 4,
   "id": "b45388c4",
   "metadata": {},
   "outputs": [],
   "source": [
    "# Create the connection\n",
    "cnx = create_engine(postgres_str)\n"
   ]
  },
  {
   "cell_type": "code",
   "execution_count": 5,
   "id": "fc44270b",
   "metadata": {
    "scrolled": true
   },
   "outputs": [],
   "source": [
    "# read the file\n",
    "merge = pd.read_sql_query('''SELECT * FROM merge;''', cnx)"
   ]
  },
  {
   "cell_type": "code",
   "execution_count": 6,
   "id": "10c19497",
   "metadata": {
    "scrolled": true
   },
   "outputs": [
    {
     "data": {
      "text/html": [
       "<div>\n",
       "<style scoped>\n",
       "    .dataframe tbody tr th:only-of-type {\n",
       "        vertical-align: middle;\n",
       "    }\n",
       "\n",
       "    .dataframe tbody tr th {\n",
       "        vertical-align: top;\n",
       "    }\n",
       "\n",
       "    .dataframe thead th {\n",
       "        text-align: right;\n",
       "    }\n",
       "</style>\n",
       "<table border=\"1\" class=\"dataframe\">\n",
       "  <thead>\n",
       "    <tr style=\"text-align: right;\">\n",
       "      <th></th>\n",
       "      <th>DBN</th>\n",
       "      <th>ell_num</th>\n",
       "      <th>sped_num</th>\n",
       "      <th>asian_num</th>\n",
       "      <th>black_num</th>\n",
       "      <th>hispanic_num</th>\n",
       "      <th>white_num</th>\n",
       "      <th>male_num</th>\n",
       "      <th>female_num</th>\n",
       "      <th>Total Cohort #</th>\n",
       "      <th>...</th>\n",
       "      <th># Male</th>\n",
       "      <th># Asian</th>\n",
       "      <th># Black</th>\n",
       "      <th># Hispanic</th>\n",
       "      <th># Multi-Racial</th>\n",
       "      <th># Native American</th>\n",
       "      <th># White</th>\n",
       "      <th># English Language Learners</th>\n",
       "      <th># Poverty</th>\n",
       "      <th>Economic Need Index</th>\n",
       "    </tr>\n",
       "  </thead>\n",
       "  <tbody>\n",
       "    <tr>\n",
       "      <th>0</th>\n",
       "      <td>01M292</td>\n",
       "      <td>52.0</td>\n",
       "      <td>124.0</td>\n",
       "      <td>56</td>\n",
       "      <td>158</td>\n",
       "      <td>272</td>\n",
       "      <td>12</td>\n",
       "      <td>281.0</td>\n",
       "      <td>234.0</td>\n",
       "      <td>5</td>\n",
       "      <td>...</td>\n",
       "      <td>125</td>\n",
       "      <td>27</td>\n",
       "      <td>58</td>\n",
       "      <td>127</td>\n",
       "      <td>0</td>\n",
       "      <td>4</td>\n",
       "      <td>6</td>\n",
       "      <td>21</td>\n",
       "      <td>191.00</td>\n",
       "      <td>87.8</td>\n",
       "    </tr>\n",
       "    <tr>\n",
       "      <th>1</th>\n",
       "      <td>01M448</td>\n",
       "      <td>54.0</td>\n",
       "      <td>111.0</td>\n",
       "      <td>110</td>\n",
       "      <td>128</td>\n",
       "      <td>232</td>\n",
       "      <td>18</td>\n",
       "      <td>275.0</td>\n",
       "      <td>213.0</td>\n",
       "      <td>59</td>\n",
       "      <td>...</td>\n",
       "      <td>267</td>\n",
       "      <td>141</td>\n",
       "      <td>100</td>\n",
       "      <td>206</td>\n",
       "      <td>1</td>\n",
       "      <td>2</td>\n",
       "      <td>15</td>\n",
       "      <td>49</td>\n",
       "      <td>415.00</td>\n",
       "      <td>82.9</td>\n",
       "    </tr>\n",
       "    <tr>\n",
       "      <th>2</th>\n",
       "      <td>01M450</td>\n",
       "      <td>27.0</td>\n",
       "      <td>146.0</td>\n",
       "      <td>34</td>\n",
       "      <td>145</td>\n",
       "      <td>326</td>\n",
       "      <td>33</td>\n",
       "      <td>285.0</td>\n",
       "      <td>261.0</td>\n",
       "      <td>76</td>\n",
       "      <td>...</td>\n",
       "      <td>366</td>\n",
       "      <td>81</td>\n",
       "      <td>113</td>\n",
       "      <td>367</td>\n",
       "      <td>6</td>\n",
       "      <td>6</td>\n",
       "      <td>100</td>\n",
       "      <td>6</td>\n",
       "      <td>447.00</td>\n",
       "      <td>62.9</td>\n",
       "    </tr>\n",
       "    <tr>\n",
       "      <th>3</th>\n",
       "      <td>01M458</td>\n",
       "      <td>4.0</td>\n",
       "      <td>19.0</td>\n",
       "      <td>3</td>\n",
       "      <td>59</td>\n",
       "      <td>136</td>\n",
       "      <td>8</td>\n",
       "      <td>96.0</td>\n",
       "      <td>117.0</td>\n",
       "      <td>70</td>\n",
       "      <td>...</td>\n",
       "      <td>86</td>\n",
       "      <td>1</td>\n",
       "      <td>70</td>\n",
       "      <td>121</td>\n",
       "      <td>1</td>\n",
       "      <td>1</td>\n",
       "      <td>9</td>\n",
       "      <td>16</td>\n",
       "      <td>176.00</td>\n",
       "      <td>85.0</td>\n",
       "    </tr>\n",
       "    <tr>\n",
       "      <th>4</th>\n",
       "      <td>01M515</td>\n",
       "      <td>462.0</td>\n",
       "      <td>4.0</td>\n",
       "      <td>501</td>\n",
       "      <td>24</td>\n",
       "      <td>24</td>\n",
       "      <td>2</td>\n",
       "      <td>314.0</td>\n",
       "      <td>237.0</td>\n",
       "      <td>234</td>\n",
       "      <td>...</td>\n",
       "      <td>320</td>\n",
       "      <td>318</td>\n",
       "      <td>58</td>\n",
       "      <td>165</td>\n",
       "      <td>0</td>\n",
       "      <td>6</td>\n",
       "      <td>10</td>\n",
       "      <td>392</td>\n",
       "      <td>431.00</td>\n",
       "      <td>95.0</td>\n",
       "    </tr>\n",
       "    <tr>\n",
       "      <th>...</th>\n",
       "      <td>...</td>\n",
       "      <td>...</td>\n",
       "      <td>...</td>\n",
       "      <td>...</td>\n",
       "      <td>...</td>\n",
       "      <td>...</td>\n",
       "      <td>...</td>\n",
       "      <td>...</td>\n",
       "      <td>...</td>\n",
       "      <td>...</td>\n",
       "      <td>...</td>\n",
       "      <td>...</td>\n",
       "      <td>...</td>\n",
       "      <td>...</td>\n",
       "      <td>...</td>\n",
       "      <td>...</td>\n",
       "      <td>...</td>\n",
       "      <td>...</td>\n",
       "      <td>...</td>\n",
       "      <td>...</td>\n",
       "      <td>...</td>\n",
       "    </tr>\n",
       "    <tr>\n",
       "      <th>405</th>\n",
       "      <td>32K549</td>\n",
       "      <td>52.0</td>\n",
       "      <td>53.0</td>\n",
       "      <td>3</td>\n",
       "      <td>97</td>\n",
       "      <td>237</td>\n",
       "      <td>1</td>\n",
       "      <td>167.0</td>\n",
       "      <td>180.0</td>\n",
       "      <td>57</td>\n",
       "      <td>...</td>\n",
       "      <td>194</td>\n",
       "      <td>4</td>\n",
       "      <td>69</td>\n",
       "      <td>275</td>\n",
       "      <td>1</td>\n",
       "      <td>2</td>\n",
       "      <td>11</td>\n",
       "      <td>118</td>\n",
       "      <td>310.00</td>\n",
       "      <td>92.1</td>\n",
       "    </tr>\n",
       "    <tr>\n",
       "      <th>406</th>\n",
       "      <td>32K552</td>\n",
       "      <td>69.0</td>\n",
       "      <td>47.0</td>\n",
       "      <td>5</td>\n",
       "      <td>112</td>\n",
       "      <td>239</td>\n",
       "      <td>3</td>\n",
       "      <td>193.0</td>\n",
       "      <td>170.0</td>\n",
       "      <td>85</td>\n",
       "      <td>...</td>\n",
       "      <td>112</td>\n",
       "      <td>2</td>\n",
       "      <td>35</td>\n",
       "      <td>154</td>\n",
       "      <td>0</td>\n",
       "      <td>0</td>\n",
       "      <td>4</td>\n",
       "      <td>51</td>\n",
       "      <td>187.15</td>\n",
       "      <td>91.2</td>\n",
       "    </tr>\n",
       "    <tr>\n",
       "      <th>407</th>\n",
       "      <td>32K554</td>\n",
       "      <td>10.0</td>\n",
       "      <td>15.0</td>\n",
       "      <td>6</td>\n",
       "      <td>53</td>\n",
       "      <td>174</td>\n",
       "      <td>1</td>\n",
       "      <td>120.0</td>\n",
       "      <td>117.0</td>\n",
       "      <td>5</td>\n",
       "      <td>...</td>\n",
       "      <td>194</td>\n",
       "      <td>31</td>\n",
       "      <td>36</td>\n",
       "      <td>332</td>\n",
       "      <td>0</td>\n",
       "      <td>0</td>\n",
       "      <td>35</td>\n",
       "      <td>7</td>\n",
       "      <td>373.00</td>\n",
       "      <td>70.8</td>\n",
       "    </tr>\n",
       "    <tr>\n",
       "      <th>408</th>\n",
       "      <td>32K556</td>\n",
       "      <td>58.0</td>\n",
       "      <td>35.0</td>\n",
       "      <td>5</td>\n",
       "      <td>54</td>\n",
       "      <td>231</td>\n",
       "      <td>1</td>\n",
       "      <td>122.0</td>\n",
       "      <td>178.0</td>\n",
       "      <td>77</td>\n",
       "      <td>...</td>\n",
       "      <td>155</td>\n",
       "      <td>2</td>\n",
       "      <td>48</td>\n",
       "      <td>222</td>\n",
       "      <td>0</td>\n",
       "      <td>0</td>\n",
       "      <td>3</td>\n",
       "      <td>75</td>\n",
       "      <td>266.95</td>\n",
       "      <td>92.7</td>\n",
       "    </tr>\n",
       "    <tr>\n",
       "      <th>409</th>\n",
       "      <td>32K564</td>\n",
       "      <td>14.0</td>\n",
       "      <td>21.0</td>\n",
       "      <td>2</td>\n",
       "      <td>132</td>\n",
       "      <td>219</td>\n",
       "      <td>4</td>\n",
       "      <td>158.0</td>\n",
       "      <td>199.0</td>\n",
       "      <td>173</td>\n",
       "      <td>...</td>\n",
       "      <td>137</td>\n",
       "      <td>0</td>\n",
       "      <td>81</td>\n",
       "      <td>177</td>\n",
       "      <td>0</td>\n",
       "      <td>0</td>\n",
       "      <td>5</td>\n",
       "      <td>19</td>\n",
       "      <td>226.00</td>\n",
       "      <td>90.7</td>\n",
       "    </tr>\n",
       "  </tbody>\n",
       "</table>\n",
       "<p>410 rows × 31 columns</p>\n",
       "</div>"
      ],
      "text/plain": [
       "        DBN  ell_num  sped_num  asian_num  black_num  hispanic_num  white_num  \\\n",
       "0    01M292     52.0     124.0         56        158           272         12   \n",
       "1    01M448     54.0     111.0        110        128           232         18   \n",
       "2    01M450     27.0     146.0         34        145           326         33   \n",
       "3    01M458      4.0      19.0          3         59           136          8   \n",
       "4    01M515    462.0       4.0        501         24            24          2   \n",
       "..      ...      ...       ...        ...        ...           ...        ...   \n",
       "405  32K549     52.0      53.0          3         97           237          1   \n",
       "406  32K552     69.0      47.0          5        112           239          3   \n",
       "407  32K554     10.0      15.0          6         53           174          1   \n",
       "408  32K556     58.0      35.0          5         54           231          1   \n",
       "409  32K564     14.0      21.0          2        132           219          4   \n",
       "\n",
       "     male_num  female_num  Total Cohort #  ...  # Male  # Asian  # Black  \\\n",
       "0       281.0       234.0               5  ...     125       27       58   \n",
       "1       275.0       213.0              59  ...     267      141      100   \n",
       "2       285.0       261.0              76  ...     366       81      113   \n",
       "3        96.0       117.0              70  ...      86        1       70   \n",
       "4       314.0       237.0             234  ...     320      318       58   \n",
       "..        ...         ...             ...  ...     ...      ...      ...   \n",
       "405     167.0       180.0              57  ...     194        4       69   \n",
       "406     193.0       170.0              85  ...     112        2       35   \n",
       "407     120.0       117.0               5  ...     194       31       36   \n",
       "408     122.0       178.0              77  ...     155        2       48   \n",
       "409     158.0       199.0             173  ...     137        0       81   \n",
       "\n",
       "     # Hispanic  # Multi-Racial  # Native American  # White  \\\n",
       "0           127               0                  4        6   \n",
       "1           206               1                  2       15   \n",
       "2           367               6                  6      100   \n",
       "3           121               1                  1        9   \n",
       "4           165               0                  6       10   \n",
       "..          ...             ...                ...      ...   \n",
       "405         275               1                  2       11   \n",
       "406         154               0                  0        4   \n",
       "407         332               0                  0       35   \n",
       "408         222               0                  0        3   \n",
       "409         177               0                  0        5   \n",
       "\n",
       "    # English Language Learners # Poverty  Economic Need Index  \n",
       "0                            21    191.00                 87.8  \n",
       "1                            49    415.00                 82.9  \n",
       "2                             6    447.00                 62.9  \n",
       "3                            16    176.00                 85.0  \n",
       "4                           392    431.00                 95.0  \n",
       "..                          ...       ...                  ...  \n",
       "405                         118    310.00                 92.1  \n",
       "406                          51    187.15                 91.2  \n",
       "407                           7    373.00                 70.8  \n",
       "408                          75    266.95                 92.7  \n",
       "409                          19    226.00                 90.7  \n",
       "\n",
       "[410 rows x 31 columns]"
      ]
     },
     "execution_count": 6,
     "metadata": {},
     "output_type": "execute_result"
    }
   ],
   "source": [
    "merge_df = pd.DataFrame(merge)\n",
    "merge_df"
   ]
  },
  {
   "cell_type": "code",
   "execution_count": 7,
   "id": "54507522",
   "metadata": {
    "scrolled": true
   },
   "outputs": [
    {
     "data": {
      "text/plain": [
       "DBN                            410\n",
       "ell_num                        400\n",
       "sped_num                       398\n",
       "asian_num                      410\n",
       "black_num                      410\n",
       "hispanic_num                   410\n",
       "white_num                      410\n",
       "male_num                       404\n",
       "female_num                     409\n",
       "Total Cohort #                 410\n",
       "Total Grads #                  410\n",
       "Total Regents #                410\n",
       "Advanced Regents #             410\n",
       "Regents w/o Advanced #         410\n",
       "Local #                        410\n",
       "Still Enrolled #               410\n",
       "Dropped Out #                  410\n",
       "School Name                    410\n",
       "Year                           410\n",
       "Total Enrollment               410\n",
       "# Female                       410\n",
       "# Male                         410\n",
       "# Asian                        410\n",
       "# Black                        410\n",
       "# Hispanic                     410\n",
       "# Multi-Racial                 410\n",
       "# Native American              410\n",
       "# White                        410\n",
       "# English Language Learners    410\n",
       "# Poverty                      410\n",
       "Economic Need Index            410\n",
       "dtype: int64"
      ]
     },
     "execution_count": 7,
     "metadata": {},
     "output_type": "execute_result"
    }
   ],
   "source": [
    "# counts the number of not empty values for each row\n",
    "merge_df.count()"
   ]
  },
  {
   "cell_type": "code",
   "execution_count": 8,
   "id": "bf02185f",
   "metadata": {
    "scrolled": true
   },
   "outputs": [],
   "source": [
    "merge_df = merge_df.fillna(0)"
   ]
  },
  {
   "cell_type": "code",
   "execution_count": 9,
   "id": "7589f06a",
   "metadata": {},
   "outputs": [
    {
     "data": {
      "text/plain": [
       "DBN                            410\n",
       "ell_num                        410\n",
       "sped_num                       410\n",
       "asian_num                      410\n",
       "black_num                      410\n",
       "hispanic_num                   410\n",
       "white_num                      410\n",
       "male_num                       410\n",
       "female_num                     410\n",
       "Total Cohort #                 410\n",
       "Total Grads #                  410\n",
       "Total Regents #                410\n",
       "Advanced Regents #             410\n",
       "Regents w/o Advanced #         410\n",
       "Local #                        410\n",
       "Still Enrolled #               410\n",
       "Dropped Out #                  410\n",
       "School Name                    410\n",
       "Year                           410\n",
       "Total Enrollment               410\n",
       "# Female                       410\n",
       "# Male                         410\n",
       "# Asian                        410\n",
       "# Black                        410\n",
       "# Hispanic                     410\n",
       "# Multi-Racial                 410\n",
       "# Native American              410\n",
       "# White                        410\n",
       "# English Language Learners    410\n",
       "# Poverty                      410\n",
       "Economic Need Index            410\n",
       "dtype: int64"
      ]
     },
     "execution_count": 9,
     "metadata": {},
     "output_type": "execute_result"
    }
   ],
   "source": [
    "merge_df.count()"
   ]
  },
  {
   "cell_type": "markdown",
   "id": "7e017fdc",
   "metadata": {},
   "source": [
    "# PreProcessing the Data\n"
   ]
  },
  {
   "cell_type": "markdown",
   "id": "4358dd71",
   "metadata": {},
   "source": [
    "## 1.First, we define the features set."
   ]
  },
  {
   "cell_type": "code",
   "execution_count": 10,
   "id": "1efee25d",
   "metadata": {
    "scrolled": true
   },
   "outputs": [
    {
     "data": {
      "text/html": [
       "<div>\n",
       "<style scoped>\n",
       "    .dataframe tbody tr th:only-of-type {\n",
       "        vertical-align: middle;\n",
       "    }\n",
       "\n",
       "    .dataframe tbody tr th {\n",
       "        vertical-align: top;\n",
       "    }\n",
       "\n",
       "    .dataframe thead th {\n",
       "        text-align: right;\n",
       "    }\n",
       "</style>\n",
       "<table border=\"1\" class=\"dataframe\">\n",
       "  <thead>\n",
       "    <tr style=\"text-align: right;\">\n",
       "      <th></th>\n",
       "      <th>ell_num</th>\n",
       "      <th>sped_num</th>\n",
       "      <th>male_num</th>\n",
       "      <th>female_num</th>\n",
       "      <th>Total Cohort #</th>\n",
       "      <th>Total Grads #</th>\n",
       "      <th>Total Regents #</th>\n",
       "      <th>Advanced Regents #</th>\n",
       "      <th>Regents w/o Advanced #</th>\n",
       "      <th>Local #</th>\n",
       "      <th>...</th>\n",
       "      <th># Male</th>\n",
       "      <th># Asian</th>\n",
       "      <th># Black</th>\n",
       "      <th># Hispanic</th>\n",
       "      <th># Multi-Racial</th>\n",
       "      <th># Native American</th>\n",
       "      <th># White</th>\n",
       "      <th># English Language Learners</th>\n",
       "      <th># Poverty</th>\n",
       "      <th>Economic Need Index</th>\n",
       "    </tr>\n",
       "  </thead>\n",
       "  <tbody>\n",
       "    <tr>\n",
       "      <th>0</th>\n",
       "      <td>52.0</td>\n",
       "      <td>124.0</td>\n",
       "      <td>281.0</td>\n",
       "      <td>234.0</td>\n",
       "      <td>5</td>\n",
       "      <td>4.0</td>\n",
       "      <td>0.0</td>\n",
       "      <td>0.0</td>\n",
       "      <td>0.0</td>\n",
       "      <td>4.0</td>\n",
       "      <td>...</td>\n",
       "      <td>125</td>\n",
       "      <td>27</td>\n",
       "      <td>58</td>\n",
       "      <td>127</td>\n",
       "      <td>0</td>\n",
       "      <td>4</td>\n",
       "      <td>6</td>\n",
       "      <td>21</td>\n",
       "      <td>191.0</td>\n",
       "      <td>87.8</td>\n",
       "    </tr>\n",
       "    <tr>\n",
       "      <th>1</th>\n",
       "      <td>54.0</td>\n",
       "      <td>111.0</td>\n",
       "      <td>275.0</td>\n",
       "      <td>213.0</td>\n",
       "      <td>59</td>\n",
       "      <td>31.0</td>\n",
       "      <td>19.0</td>\n",
       "      <td>3.0</td>\n",
       "      <td>16.0</td>\n",
       "      <td>12.0</td>\n",
       "      <td>...</td>\n",
       "      <td>267</td>\n",
       "      <td>141</td>\n",
       "      <td>100</td>\n",
       "      <td>206</td>\n",
       "      <td>1</td>\n",
       "      <td>2</td>\n",
       "      <td>15</td>\n",
       "      <td>49</td>\n",
       "      <td>415.0</td>\n",
       "      <td>82.9</td>\n",
       "    </tr>\n",
       "    <tr>\n",
       "      <th>2</th>\n",
       "      <td>27.0</td>\n",
       "      <td>146.0</td>\n",
       "      <td>285.0</td>\n",
       "      <td>261.0</td>\n",
       "      <td>76</td>\n",
       "      <td>65.0</td>\n",
       "      <td>64.0</td>\n",
       "      <td>0.0</td>\n",
       "      <td>64.0</td>\n",
       "      <td>1.0</td>\n",
       "      <td>...</td>\n",
       "      <td>366</td>\n",
       "      <td>81</td>\n",
       "      <td>113</td>\n",
       "      <td>367</td>\n",
       "      <td>6</td>\n",
       "      <td>6</td>\n",
       "      <td>100</td>\n",
       "      <td>6</td>\n",
       "      <td>447.0</td>\n",
       "      <td>62.9</td>\n",
       "    </tr>\n",
       "    <tr>\n",
       "      <th>3</th>\n",
       "      <td>4.0</td>\n",
       "      <td>19.0</td>\n",
       "      <td>96.0</td>\n",
       "      <td>117.0</td>\n",
       "      <td>70</td>\n",
       "      <td>12.0</td>\n",
       "      <td>9.0</td>\n",
       "      <td>0.0</td>\n",
       "      <td>9.0</td>\n",
       "      <td>3.0</td>\n",
       "      <td>...</td>\n",
       "      <td>86</td>\n",
       "      <td>1</td>\n",
       "      <td>70</td>\n",
       "      <td>121</td>\n",
       "      <td>1</td>\n",
       "      <td>1</td>\n",
       "      <td>9</td>\n",
       "      <td>16</td>\n",
       "      <td>176.0</td>\n",
       "      <td>85.0</td>\n",
       "    </tr>\n",
       "    <tr>\n",
       "      <th>4</th>\n",
       "      <td>462.0</td>\n",
       "      <td>4.0</td>\n",
       "      <td>314.0</td>\n",
       "      <td>237.0</td>\n",
       "      <td>234</td>\n",
       "      <td>59.0</td>\n",
       "      <td>59.0</td>\n",
       "      <td>37.0</td>\n",
       "      <td>22.0</td>\n",
       "      <td>0.0</td>\n",
       "      <td>...</td>\n",
       "      <td>320</td>\n",
       "      <td>318</td>\n",
       "      <td>58</td>\n",
       "      <td>165</td>\n",
       "      <td>0</td>\n",
       "      <td>6</td>\n",
       "      <td>10</td>\n",
       "      <td>392</td>\n",
       "      <td>431.0</td>\n",
       "      <td>95.0</td>\n",
       "    </tr>\n",
       "  </tbody>\n",
       "</table>\n",
       "<p>5 rows × 23 columns</p>\n",
       "</div>"
      ],
      "text/plain": [
       "   ell_num  sped_num  male_num  female_num  Total Cohort #  Total Grads #  \\\n",
       "0     52.0     124.0     281.0       234.0               5            4.0   \n",
       "1     54.0     111.0     275.0       213.0              59           31.0   \n",
       "2     27.0     146.0     285.0       261.0              76           65.0   \n",
       "3      4.0      19.0      96.0       117.0              70           12.0   \n",
       "4    462.0       4.0     314.0       237.0             234           59.0   \n",
       "\n",
       "   Total Regents #  Advanced Regents #  Regents w/o Advanced #  Local #  ...  \\\n",
       "0              0.0                 0.0                     0.0      4.0  ...   \n",
       "1             19.0                 3.0                    16.0     12.0  ...   \n",
       "2             64.0                 0.0                    64.0      1.0  ...   \n",
       "3              9.0                 0.0                     9.0      3.0  ...   \n",
       "4             59.0                37.0                    22.0      0.0  ...   \n",
       "\n",
       "   # Male  # Asian  # Black  # Hispanic  # Multi-Racial  # Native American  \\\n",
       "0     125       27       58         127               0                  4   \n",
       "1     267      141      100         206               1                  2   \n",
       "2     366       81      113         367               6                  6   \n",
       "3      86        1       70         121               1                  1   \n",
       "4     320      318       58         165               0                  6   \n",
       "\n",
       "   # White  # English Language Learners  # Poverty  Economic Need Index  \n",
       "0        6                           21      191.0                 87.8  \n",
       "1       15                           49      415.0                 82.9  \n",
       "2      100                            6      447.0                 62.9  \n",
       "3        9                           16      176.0                 85.0  \n",
       "4       10                          392      431.0                 95.0  \n",
       "\n",
       "[5 rows x 23 columns]"
      ]
     },
     "execution_count": 10,
     "metadata": {},
     "output_type": "execute_result"
    }
   ],
   "source": [
    "# Define the features set.\n",
    "X = merge_df.copy()\n",
    "X = X.drop(columns=[\"DBN\",\"asian_num\",\"black_num\",\"hispanic_num\",\"white_num\",\"School Name\",\"Year\",\"Dropped Out #\"])\n",
    "            \n",
    "X.head()"
   ]
  },
  {
   "cell_type": "markdown",
   "id": "6d74979e",
   "metadata": {},
   "source": [
    "## 2.Next, we define the target set. Here, we're using the ravel() method, which performs the same procedure on our target set data as the values attribute.\n",
    "\n"
   ]
  },
  {
   "cell_type": "code",
   "execution_count": 11,
   "id": "dd8b2fd7",
   "metadata": {},
   "outputs": [
    {
     "data": {
      "text/plain": [
       "array([  1.,   6.,   2.,  40., 104.])"
      ]
     },
     "execution_count": 11,
     "metadata": {},
     "output_type": "execute_result"
    }
   ],
   "source": [
    "# Define the target set.\n",
    "y = merge_df[\"Dropped Out #\"].ravel()\n",
    "y[:5]"
   ]
  },
  {
   "cell_type": "markdown",
   "id": "b0036fa2",
   "metadata": {},
   "source": [
    "## 3. Now, we split into the training and testing sets.\n",
    "##    Train =80%, Test = 20%"
   ]
  },
  {
   "cell_type": "code",
   "execution_count": 12,
   "id": "a1e18e53",
   "metadata": {},
   "outputs": [],
   "source": [
    "# # Splitting into Train and Test sets.\n",
    "X_train, X_test, y_train, y_test = train_test_split(X, y,test_size = 0.2,random_state=78)"
   ]
  },
  {
   "cell_type": "code",
   "execution_count": 13,
   "id": "be5d76d1",
   "metadata": {},
   "outputs": [
    {
     "name": "stdout",
     "output_type": "stream",
     "text": [
      "X_train :  (328, 23)\n",
      "X_test :  (82, 23)\n",
      "y_train :  (328,)\n",
      "y_test :  (82,)\n"
     ]
    }
   ],
   "source": [
    "# Print the shape of X_train, X_test, y_train, and y_test. Add the following code to do this:\n",
    "\n",
    "print(\"X_train : \",X_train.shape)\n",
    "\n",
    "print(\"X_test : \",X_test.shape)\n",
    "\n",
    "print(\"y_train : \",y_train.shape)\n",
    "\n",
    "print(\"y_test : \",y_test.shape)\n",
    "\n"
   ]
  },
  {
   "cell_type": "markdown",
   "id": "8c4e0e3c",
   "metadata": {},
   "source": [
    "## 4. Lastly, we can create the StandardScaler instance, fit the scaler with the training set, and scale the data.\n",
    "\n"
   ]
  },
  {
   "cell_type": "code",
   "execution_count": 14,
   "id": "540d56e9",
   "metadata": {
    "scrolled": false
   },
   "outputs": [],
   "source": [
    "# Creating a StandardScaler instance.\n",
    "#scaler = StandardScaler()\n",
    "# Fitting the Standard Scaler with the training data.\n",
    "#X_scaler = scaler.fit(X_train)\n",
    "\n",
    "# Scaling the data.\n",
    "#X_train_scaled = X_scaler.transform(X_train)\n",
    "#X_test_scaled = X_scaler.transform(X_test)\n"
   ]
  },
  {
   "cell_type": "markdown",
   "id": "ee5c4677",
   "metadata": {},
   "source": [
    "#   feature engineering and the feature selection\n",
    "## Fit the Model, Make Predictions, and Evaluate Results"
   ]
  },
  {
   "cell_type": "markdown",
   "id": "b65d3337",
   "metadata": {},
   "source": [
    "## Regression models"
   ]
  },
  {
   "cell_type": "code",
   "execution_count": 15,
   "id": "e2ea9479",
   "metadata": {},
   "outputs": [],
   "source": [
    "#  Create a random forest regressor.\n",
    "rf_model = RandomForestRegressor(n_estimators=200, random_state=78) "
   ]
  },
  {
   "cell_type": "code",
   "execution_count": 16,
   "id": "f1c91938",
   "metadata": {
    "scrolled": true
   },
   "outputs": [
    {
     "data": {
      "text/plain": [
       "RandomForestRegressor(n_estimators=200, random_state=78)"
      ]
     },
     "execution_count": 16,
     "metadata": {},
     "output_type": "execute_result"
    }
   ],
   "source": [
    "# # Fitting the model\n",
    "rf_model = rf_model.fit(X_train, y_train)\n",
    "rf_model"
   ]
  },
  {
   "cell_type": "code",
   "execution_count": 17,
   "id": "44968128",
   "metadata": {},
   "outputs": [],
   "source": [
    "# Making predictions using the testing data.\n",
    "predictions = rf_model.predict(X_test)"
   ]
  },
  {
   "cell_type": "code",
   "execution_count": 18,
   "id": "9316cc36",
   "metadata": {},
   "outputs": [
    {
     "data": {
      "text/plain": [
       "0.6075674602498352"
      ]
     },
     "execution_count": 18,
     "metadata": {},
     "output_type": "execute_result"
    }
   ],
   "source": [
    "# Evaluate the performance.\n",
    "from sklearn.metrics import r2_score\n",
    "r2_score(y_test,predictions)"
   ]
  },
  {
   "cell_type": "markdown",
   "id": "baa9c5c4",
   "metadata": {},
   "source": [
    "## DecisionTreeRegressor"
   ]
  },
  {
   "cell_type": "code",
   "execution_count": 19,
   "id": "81ec68d2",
   "metadata": {
    "scrolled": false
   },
   "outputs": [
    {
     "data": {
      "text/plain": [
       "DecisionTreeRegressor(random_state=0)"
      ]
     },
     "execution_count": 19,
     "metadata": {},
     "output_type": "execute_result"
    }
   ],
   "source": [
    "# Training the Decision Tree Regression model on the Training set\n",
    "from sklearn.tree import DecisionTreeRegressor\n",
    "rf_model = DecisionTreeRegressor(random_state = 0)\n",
    "rf_model = rf_model.fit(X_train, y_train)\n",
    "rf_model"
   ]
  },
  {
   "cell_type": "code",
   "execution_count": 20,
   "id": "122b95ac",
   "metadata": {},
   "outputs": [],
   "source": [
    "# Predicting the Test set results\n",
    "predictions = rf_model.predict(X_test)"
   ]
  },
  {
   "cell_type": "code",
   "execution_count": 21,
   "id": "5a65426b",
   "metadata": {
    "scrolled": false
   },
   "outputs": [
    {
     "name": "stdout",
     "output_type": "stream",
     "text": [
      "r2 score for a worse model is -0.27157994218157877\n"
     ]
    }
   ],
   "source": [
    "# Evaluate the performance.\n",
    "from sklearn.metrics import r2_score\n",
    "r2 = r2_score(y_test,predictions)\n",
    "print('r2 score for a worse model is', r2)"
   ]
  },
  {
   "cell_type": "markdown",
   "id": "3a187c4c",
   "metadata": {},
   "source": [
    "## Support Vector Regression"
   ]
  },
  {
   "cell_type": "code",
   "execution_count": 22,
   "id": "c83dc882",
   "metadata": {},
   "outputs": [
    {
     "data": {
      "text/plain": [
       "SVR()"
      ]
     },
     "execution_count": 22,
     "metadata": {},
     "output_type": "execute_result"
    }
   ],
   "source": [
    "# Training the Support Vector Regression model on the Training set\n",
    "from sklearn.svm import SVR\n",
    "rf_model = SVR(kernel = 'rbf')\n",
    "rf_model = rf_model.fit(X_train, y_train)\n",
    "rf_model\n"
   ]
  },
  {
   "cell_type": "code",
   "execution_count": 23,
   "id": "09b7e1f2",
   "metadata": {},
   "outputs": [],
   "source": [
    "# Predicting the Test set results\n",
    "predictions = rf_model.predict(X_test)"
   ]
  },
  {
   "cell_type": "code",
   "execution_count": 24,
   "id": "40dd0029",
   "metadata": {
    "scrolled": true
   },
   "outputs": [
    {
     "data": {
      "text/plain": [
       "0.08506255826618381"
      ]
     },
     "execution_count": 24,
     "metadata": {},
     "output_type": "execute_result"
    }
   ],
   "source": [
    "# Evaluate the performance.\n",
    "from sklearn.metrics import r2_score\n",
    "r2_score(y_test,predictions)\n"
   ]
  },
  {
   "cell_type": "markdown",
   "id": "169f7cc2",
   "metadata": {},
   "source": [
    "##  multiple linear regression "
   ]
  },
  {
   "cell_type": "code",
   "execution_count": 25,
   "id": "c7781c29",
   "metadata": {},
   "outputs": [
    {
     "data": {
      "text/plain": [
       "LinearRegression()"
      ]
     },
     "execution_count": 25,
     "metadata": {},
     "output_type": "execute_result"
    }
   ],
   "source": [
    "# Training the multiple regression model on the Training set\n",
    "from sklearn.linear_model import LinearRegression\n",
    "rf_model = LinearRegression()\n",
    "rf_model = rf_model.fit(X_train, y_train)\n",
    "rf_model"
   ]
  },
  {
   "cell_type": "code",
   "execution_count": 26,
   "id": "9a9bff0d",
   "metadata": {},
   "outputs": [],
   "source": [
    "# Predicting the Test set results\n",
    "predictions = rf_model.predict(X_test)\n"
   ]
  },
  {
   "cell_type": "code",
   "execution_count": 27,
   "id": "a1c247c7",
   "metadata": {
    "scrolled": true
   },
   "outputs": [
    {
     "data": {
      "text/plain": [
       "0.9902008274310408"
      ]
     },
     "execution_count": 27,
     "metadata": {},
     "output_type": "execute_result"
    }
   ],
   "source": [
    "# get the training  set accuracy scores.\n",
    "rf_model.score(X_train, y_train)"
   ]
  },
  {
   "cell_type": "code",
   "execution_count": 28,
   "id": "ba470edc",
   "metadata": {},
   "outputs": [
    {
     "data": {
      "text/plain": [
       "0.9844782486300152"
      ]
     },
     "execution_count": 28,
     "metadata": {},
     "output_type": "execute_result"
    }
   ],
   "source": [
    "# get the test set accuracy scores.\n",
    "rf_model.score(X_test, y_test)"
   ]
  },
  {
   "cell_type": "code",
   "execution_count": 29,
   "id": "4b427cc7",
   "metadata": {
    "scrolled": true
   },
   "outputs": [
    {
     "data": {
      "text/plain": [
       "0.9844782486300152"
      ]
     },
     "execution_count": 29,
     "metadata": {},
     "output_type": "execute_result"
    }
   ],
   "source": [
    "# Evaluate the performance.\n",
    "from sklearn.metrics import r2_score\n",
    "r2_score(y_test,predictions)\n"
   ]
  },
  {
   "cell_type": "code",
   "execution_count": 30,
   "id": "11697eb9",
   "metadata": {
    "scrolled": false
   },
   "outputs": [
    {
     "data": {
      "text/html": [
       "<div>\n",
       "<style scoped>\n",
       "    .dataframe tbody tr th:only-of-type {\n",
       "        vertical-align: middle;\n",
       "    }\n",
       "\n",
       "    .dataframe tbody tr th {\n",
       "        vertical-align: top;\n",
       "    }\n",
       "\n",
       "    .dataframe thead th {\n",
       "        text-align: right;\n",
       "    }\n",
       "</style>\n",
       "<table border=\"1\" class=\"dataframe\">\n",
       "  <thead>\n",
       "    <tr style=\"text-align: right;\">\n",
       "      <th></th>\n",
       "      <th>0</th>\n",
       "      <th>1</th>\n",
       "      <th>2</th>\n",
       "      <th>3</th>\n",
       "      <th>4</th>\n",
       "      <th>5</th>\n",
       "      <th>6</th>\n",
       "      <th>7</th>\n",
       "      <th>8</th>\n",
       "      <th>9</th>\n",
       "      <th>...</th>\n",
       "      <th>400</th>\n",
       "      <th>401</th>\n",
       "      <th>402</th>\n",
       "      <th>403</th>\n",
       "      <th>404</th>\n",
       "      <th>405</th>\n",
       "      <th>406</th>\n",
       "      <th>407</th>\n",
       "      <th>408</th>\n",
       "      <th>409</th>\n",
       "    </tr>\n",
       "  </thead>\n",
       "  <tbody>\n",
       "    <tr>\n",
       "      <th>Actual Price</th>\n",
       "      <td>1.000000</td>\n",
       "      <td>6.000000</td>\n",
       "      <td>2.000000</td>\n",
       "      <td>40.000000</td>\n",
       "      <td>104.000000</td>\n",
       "      <td>1.000000</td>\n",
       "      <td>2.000000</td>\n",
       "      <td>1.000000</td>\n",
       "      <td>1.000000</td>\n",
       "      <td>2.000000</td>\n",
       "      <td>...</td>\n",
       "      <td>1.00000</td>\n",
       "      <td>0.000000</td>\n",
       "      <td>7.000000</td>\n",
       "      <td>3.000000</td>\n",
       "      <td>13.000000</td>\n",
       "      <td>7.000000</td>\n",
       "      <td>21.000000</td>\n",
       "      <td>0.000000</td>\n",
       "      <td>11.000000</td>\n",
       "      <td>57.000000</td>\n",
       "    </tr>\n",
       "    <tr>\n",
       "      <th>Predicted Price</th>\n",
       "      <td>-0.182839</td>\n",
       "      <td>7.003348</td>\n",
       "      <td>-0.163971</td>\n",
       "      <td>38.730655</td>\n",
       "      <td>98.943792</td>\n",
       "      <td>2.119565</td>\n",
       "      <td>2.767481</td>\n",
       "      <td>-0.238971</td>\n",
       "      <td>0.383843</td>\n",
       "      <td>2.406094</td>\n",
       "      <td>...</td>\n",
       "      <td>0.99226</td>\n",
       "      <td>0.388057</td>\n",
       "      <td>6.885482</td>\n",
       "      <td>2.642069</td>\n",
       "      <td>11.147824</td>\n",
       "      <td>7.249769</td>\n",
       "      <td>20.361868</td>\n",
       "      <td>0.058928</td>\n",
       "      <td>14.463391</td>\n",
       "      <td>56.092685</td>\n",
       "    </tr>\n",
       "  </tbody>\n",
       "</table>\n",
       "<p>2 rows × 410 columns</p>\n",
       "</div>"
      ],
      "text/plain": [
       "                      0         1         2          3           4    \\\n",
       "Actual Price     1.000000  6.000000  2.000000  40.000000  104.000000   \n",
       "Predicted Price -0.182839  7.003348 -0.163971  38.730655   98.943792   \n",
       "\n",
       "                      5         6         7         8         9    ...  \\\n",
       "Actual Price     1.000000  2.000000  1.000000  1.000000  2.000000  ...   \n",
       "Predicted Price  2.119565  2.767481 -0.238971  0.383843  2.406094  ...   \n",
       "\n",
       "                     400       401       402       403        404       405  \\\n",
       "Actual Price     1.00000  0.000000  7.000000  3.000000  13.000000  7.000000   \n",
       "Predicted Price  0.99226  0.388057  6.885482  2.642069  11.147824  7.249769   \n",
       "\n",
       "                       406       407        408        409  \n",
       "Actual Price     21.000000  0.000000  11.000000  57.000000  \n",
       "Predicted Price  20.361868  0.058928  14.463391  56.092685  \n",
       "\n",
       "[2 rows x 410 columns]"
      ]
     },
     "execution_count": 30,
     "metadata": {},
     "output_type": "execute_result"
    }
   ],
   "source": [
    "predictedPrice = pd.DataFrame(rf_model.predict(X), columns=['Predicted Price']) # Create new dataframe of column'Predicted Price'\n",
    "actualPrice = pd.DataFrame(y, columns=['Actual Price'])\n",
    "actualPrice = actualPrice.reset_index(drop=True) # Drop the index so that we can concat it, to create new dataframe\n",
    "df_actual_vs_predicted = pd.concat([actualPrice,predictedPrice],axis =1)\n",
    "df_actual_vs_predicted.T"
   ]
  },
  {
   "cell_type": "code",
   "execution_count": 31,
   "id": "c6f1d75a",
   "metadata": {
    "scrolled": false
   },
   "outputs": [
    {
     "data": {
      "text/plain": [
       "Text(0.5, 1.0, ' Actaul dropout numbers Vs predicted dropout numbers')"
      ]
     },
     "execution_count": 31,
     "metadata": {},
     "output_type": "execute_result"
    },
    {
     "data": {
      "image/png": "[encoded data removed]",
      "text/plain": [
       "<Figure size 432x288 with 1 Axes>"
      ]
     },
     "metadata": {
      "needs_background": "light"
     },
     "output_type": "display_data"
    }
   ],
   "source": [
    "import matplotlib.pyplot as plt\n",
    "plt.scatter(y,rf_model.predict(X))\n",
    "plt.xlabel('Actaul dropout numbers')\n",
    "plt.ylabel('predicted dropout numbers')\n",
    "plt.rcParams[\"figure.figsize\"] = (10,6) # Custom figure size in inches\n",
    "plt.title(\" Actaul dropout numbers Vs predicted dropout numbers\")"
   ]
  },
  {
   "cell_type": "code",
   "execution_count": 32,
   "id": "8fb45813",
   "metadata": {
    "scrolled": true
   },
   "outputs": [
    {
     "name": "stdout",
     "output_type": "stream",
     "text": [
      "Multiple linear regression: 98%\n",
      "Support Vector Regression: 5%\n",
      "Decision Tree Regression: 35%\n",
      "Random Forest Regression: 61%\n"
     ]
    }
   ],
   "source": [
    "print(\"Multiple linear regression: 98%\")\n",
    "print(\"Support Vector Regression: 5%\")\n",
    "print(\"Decision Tree Regression: 35%\")\n",
    "print(\"Random Forest Regression: 61%\")"
   ]
  },
  {
   "cell_type": "markdown",
   "id": "f80e9dd7",
   "metadata": {},
   "source": [
    "## Multiple linear regression performed the best out of all the four regression models. So we decided to go with this model to predict output values. We didn't see any limitations as the accuracy score is near 100%.\n",
    "## Benefit: This approach has led to a more accurate and precise understanding of the association of each factor with the outcome.\n"
   ]
  },
  {
   "cell_type": "code",
   "execution_count": null,
   "id": "e363800d",
   "metadata": {},
   "outputs": [],
   "source": []
  }
 ],
 "metadata": {
  "kernelspec": {
   "display_name": "PythonData",
   "language": "python",
   "name": "pythondata"
  },
  "language_info": {
   "codemirror_mode": {
    "name": "ipython",
    "version": 3
   },
   "file_extension": ".py",
   "mimetype": "text/x-python",
   "name": "python",
   "nbconvert_exporter": "python",
   "pygments_lexer": "ipython3",
   "version": "3.7.11"
  }
 },
 "nbformat": 4,
 "nbformat_minor": 5
}
